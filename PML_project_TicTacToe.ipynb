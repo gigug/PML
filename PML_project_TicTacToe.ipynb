{
  "nbformat": 4,
  "nbformat_minor": 0,
  "metadata": {
    "colab": {
      "name": "PML_project_TicTacToe.ipynb",
      "provenance": [],
      "collapsed_sections": [],
      "include_colab_link": true
    },
    "kernelspec": {
      "display_name": "Python 3",
      "language": "python",
      "name": "python3"
    },
    "language_info": {
      "codemirror_mode": {
        "name": "ipython",
        "version": 3
      },
      "file_extension": ".py",
      "mimetype": "text/x-python",
      "name": "python",
      "nbconvert_exporter": "python",
      "pygments_lexer": "ipython3",
      "version": "3.8.10"
    }
  },
  "cells": [
    {
      "cell_type": "markdown",
      "metadata": {
        "id": "view-in-github",
        "colab_type": "text"
      },
      "source": [
        "<a href=\"https://colab.research.google.com/github/gigug/PML/blob/main/PML_project_TicTacToe.ipynb\" target=\"_parent\"><img src=\"https://colab.research.google.com/assets/colab-badge.svg\" alt=\"Open In Colab\"/></a>"
      ]
    },
    {
      "cell_type": "markdown",
      "metadata": {
        "id": "PedFOl5aHmiF"
      },
      "source": [
        "## Tic Tac Toe with MDP"
      ]
    },
    {
      "cell_type": "markdown",
      "metadata": {
        "id": "1xe5L846Z3_k"
      },
      "source": [
        "Libraries"
      ]
    },
    {
      "cell_type": "code",
      "metadata": {
        "id": "Kh_HVOgTZ2WI"
      },
      "source": [
        "import math\n",
        "import numpy as np\n",
        "import pprint\n",
        "import pickle\n",
        "import matplotlib.pyplot as plt\n",
        "from google.colab import files"
      ],
      "execution_count": null,
      "outputs": []
    },
    {
      "cell_type": "markdown",
      "metadata": {
        "id": "6tqK_mpfaANB"
      },
      "source": [
        "Defining board size"
      ]
    },
    {
      "cell_type": "code",
      "metadata": {
        "id": "fkEmBA3cZ_cE"
      },
      "source": [
        "rows = 3\n",
        "cols = 3"
      ],
      "execution_count": null,
      "outputs": []
    },
    {
      "cell_type": "markdown",
      "metadata": {
        "id": "g51_TPYXmHmj"
      },
      "source": [
        "Useful functions"
      ]
    },
    {
      "cell_type": "code",
      "metadata": {
        "id": "b4ZN8P3GRJpO"
      },
      "source": [
        "def moving_average(a, n=3) :\n",
        "    ret = np.cumsum(a, dtype=float)\n",
        "    ret[n:] = ret[n:] - ret[:-n]\n",
        "    return ret[n - 1:] / n\n",
        "\n",
        "def separator(a, n = 100):\n",
        "    wins = np.zeros((len(a)))\n",
        "    losses = np.zeros((len(a)))\n",
        "    ties = np.zeros((len(a)))\n",
        "    index = 0\n",
        "    for i in a:\n",
        "        if i == 1:\n",
        "            wins[index] = 1\n",
        "        if i == -1:\n",
        "            losses[index] = 1\n",
        "        if i == 0:\n",
        "            ties[index] = 1\n",
        "        index += 1\n",
        "\n",
        "    cu_wins = moving_average(wins, n)[::n]\n",
        "    cu_losses = moving_average(losses, n)[::n]\n",
        "    cu_ties = moving_average(ties, n)[::n]\n",
        "\n",
        "    x_axis = range(len(cu_wins))\n",
        "\n",
        "    return x_axis, cu_wins, cu_losses, cu_ties"
      ],
      "execution_count": null,
      "outputs": []
    },
    {
      "cell_type": "markdown",
      "metadata": {
        "id": "O2an_B5_4rrW"
      },
      "source": [
        "Defining AI player's class"
      ]
    },
    {
      "cell_type": "code",
      "metadata": {
        "id": "dnl5IHd3ihT6"
      },
      "source": [
        "class AI_player:\n",
        "  def __init__(self, name, exp_rate = 0.3, sarsa = True):\n",
        "    self.name = name\n",
        "    self.states = [] # record all positions taken, necessary for reward\n",
        "    self.lr = 0.2\n",
        "    self.exp_rate = exp_rate \n",
        "    self.decay_gamma = 0.9\n",
        "    self.states_value = {} # value of state\n",
        "    self.inde = 0\n",
        "    self.symbol = None\n",
        "    self.sarsa = sarsa\n",
        "  \n",
        "  # Return hashed board\n",
        "  # Needed to save and check policies\n",
        "  def get_hash(self, board):\n",
        "    board_hash = str(board.reshape(cols * rows))\n",
        "    return board_hash\n",
        "\n",
        "  # Choose and return action\n",
        "  def choose_action(self, positions, current_board, symbol, on = False):\n",
        "    self.symbol = symbol\n",
        "    # Take random action\n",
        "    if np.random.uniform(0, 1) <= self.exp_rate:\n",
        "      idx = np.random.choice(len(positions))\n",
        "      action = positions[idx]\n",
        "    \n",
        "    # Take action that maximizes value in the next step\n",
        "    else:\n",
        "      value_max = -math.inf\n",
        "      for p in positions:\n",
        "        next_board = current_board.copy()\n",
        "        next_board[p] = symbol\n",
        "        next_board_hash = self.get_hash(next_board)\n",
        "        value = 0 if self.states_value.get(next_board_hash) is None else self.states_value.get(next_board_hash)\n",
        "        \n",
        "        # Get best choice\n",
        "        if value >= value_max:\n",
        "          value_max = value\n",
        "          action = p\n",
        "    if on:\n",
        "      return value_max\n",
        "    return action\n",
        "\n",
        "  # Add state to history\n",
        "  def add_state(self, state):\n",
        "    self.states.append(state)\n",
        "\n",
        "  # Backpropagate and update states value\n",
        "  def feed_reward(self, reward):\n",
        "    self.inde += 1\n",
        "    for state in reversed(self.states):\n",
        "      # Initialize new state's value\n",
        "      if self.states_value.get(state) is None:\n",
        "        self.states_value[state] = 0\n",
        "\n",
        "      # Last reward state becomes reward\n",
        "      self.states_value[state] += self.lr * (self.decay_gamma * reward - self.states_value[state])\n",
        "      av = self.available_positions(self.states_value)\n",
        "      if self.sarsa:\n",
        "        reward = self.states_value[state]\n",
        "      else:\n",
        "        if len(av) > 0:\n",
        "          reward = self.choose_action(av, state, self.symbol, on = True)\n",
        "        else:\n",
        "          reward = self.states_value[state]\n",
        "    \n",
        "  def available_positions(self, board):\n",
        "    positions = []\n",
        "    for key, value in board.items():\n",
        "      board = key\n",
        "    for i in range(rows):\n",
        "      for j in range(cols):\n",
        "        if board[i * cols + j] == 0:\n",
        "          positions.append((i, j))\n",
        "    return positions\n",
        "\n",
        "  # Reset states\n",
        "  def reset(self):\n",
        "    self.states = []\n",
        "\n",
        "  # Save policy on file\n",
        "  def save_policy(self):\n",
        "    fi = open('policy_' + str(self.name), 'wb')\n",
        "    pickle.dump(self.states_value, fi)\n",
        "    fi.close()\n",
        "\n",
        "  # Load policy from file\n",
        "  def load_policy(self, file):\n",
        "    fi = open(file, 'rb')\n",
        "    self.states_value = pickle.load(fi)\n",
        "    fi.close()"
      ],
      "execution_count": null,
      "outputs": []
    },
    {
      "cell_type": "markdown",
      "metadata": {
        "id": "76DmW96G4rrY"
      },
      "source": [
        "Defining human player's class"
      ]
    },
    {
      "cell_type": "code",
      "metadata": {
        "id": "LmEmj4pgieer"
      },
      "source": [
        "class human_player:\n",
        "    def __init__(self, name):\n",
        "        self.name = name\n",
        "\n",
        "    def choose_action(self, positions):\n",
        "        while True:\n",
        "            row = int(input(\"Input your action row:\"))\n",
        "            col = int(input(\"Input your action col:\"))\n",
        "            action = (row, col)\n",
        "            if action in positions:\n",
        "                return action"
      ],
      "execution_count": null,
      "outputs": []
    },
    {
      "cell_type": "markdown",
      "metadata": {
        "id": "_nm2un7aaFOE"
      },
      "source": [
        "Defining State class"
      ]
    },
    {
      "cell_type": "code",
      "metadata": {
        "id": "422jZ1DIaHFz"
      },
      "source": [
        "class state:\n",
        "  def __init__(self, player1, player2, reward_win = 1, reward_loss = 0, reward_tie_x = 0.2, reward_tie_o = 0.2):\n",
        "    # Defining initial board\n",
        "    self.board = np.zeros((rows, cols))\n",
        "\n",
        "    # Defining roles (AI or Human)\n",
        "    self.p1 = player1\n",
        "    self.p2 = player2\n",
        "    self.end = False\n",
        "    self.board_hash = None\n",
        "\n",
        "    # First player p1\n",
        "    self.player_symbol = 1\n",
        "  \n",
        "  # AI vs AI\n",
        "  def play(self, rounds = 1000):\n",
        "    self.wins = np.zeros(rounds)\n",
        "    index = 0\n",
        "    for i in range(rounds):\n",
        "      # Print round\n",
        "      if i % 1000 == 0:\n",
        "        print(\"Rounds {}\".format(i))\n",
        "\n",
        "      while not self.end:\n",
        "        # Player 1\n",
        "        positions = self.available_positions()\n",
        "        p1_action = self.p1.choose_action(positions, self.board, self.player_symbol)\n",
        "        # take action and upate board state\n",
        "        self.update_state(p1_action)\n",
        "        board_hash = self.get_hash()\n",
        "        self.p1.add_state(board_hash)\n",
        "        # check board status if it is end\n",
        "\n",
        "        win = self.winner()\n",
        "        if win is not None:\n",
        "            # ended with p1 either win or draw\n",
        "            if win == 1:\n",
        "                self.wins[index] = 1\n",
        "            else:\n",
        "                pass\n",
        "            index += 1\n",
        "            self.close_reward()\n",
        "            break\n",
        "\n",
        "        else:\n",
        "            # Player 2\n",
        "            positions = self.available_positions()\n",
        "            p2_action = self.p2.choose_action(positions, self.board, self.player_symbol)\n",
        "            self.update_state(p2_action)\n",
        "            board_hash = self.get_hash()\n",
        "            self.p2.add_state(board_hash)\n",
        "\n",
        "            win = self.winner()\n",
        "            if win is not None:\n",
        "                if win == -1:\n",
        "                    self.wins[index] = -1\n",
        "                else:\n",
        "                    pass\n",
        "                index += 1\n",
        "                # ended with p2 either win or draw\n",
        "                self.close_reward()\n",
        "                break\n",
        "                \n",
        "  def close_reward(self):\n",
        "    self.reward()\n",
        "    self.p1.reset()\n",
        "    self.p2.reset()\n",
        "    self.reset()\n",
        "\n",
        "  # AI vs human\n",
        "  def play_human(self):\n",
        "    turn = isinstance(p1, human_player)\n",
        "    print(turn)\n",
        "    while not self.end:\n",
        "        \n",
        "        # Player 1\n",
        "        positions = self.available_positions()\n",
        "        if turn == False:\n",
        "            p1_action = self.p1.choose_action(positions, self.board, self.player_symbol)\n",
        "        else:\n",
        "            p1_action = self.p1.choose_action(positions)\n",
        "        # take action and upate board state\n",
        "        self.update_state(p1_action)\n",
        "        print_board(self)\n",
        "        # check board status if it is end\n",
        "        win = self.winner()\n",
        "        if win is not None:\n",
        "            if win == 1:\n",
        "                print(self.p1.name, \"wins!\")\n",
        "            else:\n",
        "                print(\"tie!\")\n",
        "            self.reset()\n",
        "            break\n",
        "        \n",
        "\n",
        "        else:\n",
        "            # Player 2\n",
        "            positions = self.available_positions()\n",
        "            if turn == False:\n",
        "                p2_action = self.p2.choose_action(positions)\n",
        "            else:\n",
        "                p2_action = self.p2.choose_action(positions, self.board, self.player_symbol)\n",
        "\n",
        "            self.update_state(p2_action)\n",
        "            print_board(self)\n",
        "            win = self.winner()\n",
        "            if win is not None:\n",
        "                if win == -1:\n",
        "                    print(self.p2.name, \"wins!\")\n",
        "                else:\n",
        "                    print(\"tie!\")\n",
        "                self.reset()\n",
        "                break\n",
        "\n",
        "\n",
        "  def get_hash(self):\n",
        "    self.board_hash = str(self.board.reshape(cols * rows))\n",
        "    return self.board_hash\n",
        "\n",
        "  def winner(self):\n",
        "    # row\n",
        "    for i in range(rows):\n",
        "        if sum(self.board[i, :]) == 3:\n",
        "            self.end = True\n",
        "            return 1\n",
        "        if sum(self.board[i, :]) == -3:\n",
        "            self.end = True\n",
        "            return -1\n",
        "    # col\n",
        "    for i in range(cols):\n",
        "        if sum(self.board[:, i]) == 3:\n",
        "            self.end = True\n",
        "            return 1\n",
        "        if sum(self.board[:, i]) == -3:\n",
        "            self.end = True\n",
        "            return -1\n",
        "    # diagonal\n",
        "    diag_sum1 = sum([self.board[i, i] for i in range(3)])\n",
        "    diag_sum2 = sum([self.board[i, cols - i - 1] for i in range(3)])\n",
        "    diag_sum = max(abs(diag_sum1), abs(diag_sum2))\n",
        "    if diag_sum == 3:\n",
        "        self.end = True\n",
        "        if diag_sum1 == 3 or diag_sum2 == 3:\n",
        "            return 1\n",
        "        else:\n",
        "            return -1\n",
        "\n",
        "    # tie\n",
        "    # no available positions\n",
        "    if len(self.available_positions()) == 0:\n",
        "        self.end = True\n",
        "        return 0\n",
        "    # not end\n",
        "    self.end = False\n",
        "    return None\n",
        "\n",
        "  def available_positions(self):\n",
        "    positions = []\n",
        "    for i in range(rows):\n",
        "      for j in range(cols):\n",
        "        if self.board[i, j] == 0:\n",
        "          positions.append((i, j))\n",
        "    return positions\n",
        "\n",
        "  def update_state(self, position):\n",
        "    # Write action\n",
        "    self.board[position] = self.player_symbol\n",
        "\n",
        "    # Switch symbol\n",
        "    self.player_symbol = -1 if self.player_symbol == 1 else 1\n",
        "\n",
        "  def reward(self):\n",
        "    result = self.winner()\n",
        "\n",
        "    # Backpropagate reward\n",
        "    if result == 1:\n",
        "      self.p1.feed_reward(reward_win)\n",
        "      self.p2.feed_reward(reward_loss)\n",
        "    elif result == -1:\n",
        "      self.p1.feed_reward(reward_loss)\n",
        "      self.p2.feed_reward(reward_win)\n",
        "    else:\n",
        "      self.p1.feed_reward(reward_tie_x)\n",
        "      self.p2.feed_reward(reward_tie_o)\n",
        "\n",
        "  # Reset board and properties\n",
        "  def reset(self):\n",
        "    self.board = np.zeros((rows, cols))\n",
        "    self.board_hash = None\n",
        "    self.end = False\n",
        "    self.player_symbol = 1\n",
        "\n",
        "# Print board\n",
        "def print_board(self):\n",
        "    for i in range(0, rows):\n",
        "      print ('--------------')\n",
        "      out = '| '\n",
        "      for j in range(0, cols):\n",
        "        if self.board[i, j] == 1:\n",
        "          token = 'x'\n",
        "        if self.board[i, j] == -1:\n",
        "          token = 'o'\n",
        "        if self.board[i, j] == 0:\n",
        "          token = ' '\n",
        "        out += token + ' | '\n",
        "      print(out)\n",
        "    print('-------------')\n",
        "\n"
      ],
      "execution_count": null,
      "outputs": []
    },
    {
      "cell_type": "markdown",
      "metadata": {
        "id": "1uw6mTGtQ-AY"
      },
      "source": [
        "Training *X* VS Random Opponent, SARSA and parameters:\n"
      ]
    },
    {
      "cell_type": "code",
      "metadata": {
        "id": "uc9COIzR4rrc"
      },
      "source": [
        "exp_rate_x = 0.1\n",
        "reward_win = 1\n",
        "reward_loss = 0\n",
        "reward_tie_x = 0.1\n",
        "reward_tie_o = 0.1\n",
        "\n",
        "p1_1 = AI_player(\"p1_1\", exp_rate = 0.1)\n",
        "p2_1 = AI_player(\"p2_1\", exp_rate = 1)\n",
        "\n",
        "x_learn_1 = state(p1_1, p2_1)\n",
        "print(\"Training X\")\n",
        "x_learn_1.play(100000)\n",
        "\n",
        "p1_1.save_policy()"
      ],
      "execution_count": null,
      "outputs": []
    },
    {
      "cell_type": "code",
      "metadata": {
        "colab": {
          "base_uri": "https://localhost:8080/",
          "height": 281
        },
        "id": "O8Z_lvyVTmDe",
        "outputId": "e13a24a4-b443-42d8-8c1f-5f142b2c06ae"
      },
      "source": [
        "x_axis, cu_wins_1, cu_losses_1, cu_ties_1 = separator(x_learn_1.wins, n = 100)\n",
        "\n",
        "plt.plot(x_axis, cu_wins_1, color = 'green')\n",
        "plt.plot(x_axis, cu_losses_1, color = 'red')\n",
        "plt.plot(x_axis, cu_ties_1, color = 'blue')\n",
        "plt.title(\"X's results, 1\")\n",
        "plt.show()"
      ],
      "execution_count": null,
      "outputs": [
        {
          "output_type": "display_data",
          "data": {
            "image/png": "[encoded data removed]",
            "text/plain": [
              "<Figure size 432x288 with 1 Axes>"
            ]
          },
          "metadata": {
            "needs_background": "light"
          }
        }
      ]
    },
    {
      "cell_type": "markdown",
      "metadata": {
        "id": "-f0m_FFipCBM"
      },
      "source": [
        "Training *X* VS Random Opponent, Q-learning and parameters:"
      ]
    },
    {
      "cell_type": "code",
      "metadata": {
        "id": "p5uw3jPPpByb"
      },
      "source": [
        "exp_rate_x = 0.1\n",
        "reward_win = 1\n",
        "reward_loss = 0\n",
        "reward_tie_x = 0.1\n",
        "reward_tie_o = 0.1\n",
        "\n",
        "p1_2 = AI_player(\"p1_2\", exp_rate = 0.1, sarsa = False)\n",
        "p2_2 = AI_player(\"p2_2\", exp_rate = 1)\n",
        "\n",
        "x_learn_2 = state(p1_2, p2_2)\n",
        "print(\"Training X\")\n",
        "x_learn_2.play(50000)\n",
        "\n",
        "p1_2.save_policy()"
      ],
      "execution_count": null,
      "outputs": []
    },
    {
      "cell_type": "code",
      "metadata": {
        "colab": {
          "base_uri": "https://localhost:8080/",
          "height": 281
        },
        "id": "f8kEovclpbYV",
        "outputId": "bf1b09ae-253b-4e62-faa9-585cab2c0f6c"
      },
      "source": [
        "x_axis, cu_wins, cu_losses, cu_ties = separator(x_learn_2.wins, n = 100)\n",
        "\n",
        "plt.plot(x_axis, cu_wins, color = 'green')\n",
        "plt.plot(x_axis, cu_losses, color = 'red')\n",
        "plt.plot(x_axis, cu_ties, color = 'blue')\n",
        "plt.title(\"X's results, 2\")\n",
        "plt.show()\n",
        "\n",
        "# Can't play with human"
      ],
      "execution_count": null,
      "outputs": [
        {
          "output_type": "display_data",
          "data": {
            "image/png": "[encoded data removed]",
            "text/plain": [
              "<Figure size 432x288 with 1 Axes>"
            ]
          },
          "metadata": {
            "needs_background": "light"
          }
        }
      ]
    },
    {
      "cell_type": "markdown",
      "metadata": {
        "id": "Eb3ywFEMtKrQ"
      },
      "source": [
        "Training *X* VS Learning Opponent, SARSA and parameters:"
      ]
    },
    {
      "cell_type": "code",
      "metadata": {
        "id": "5Xdt2XiGtJbN"
      },
      "source": [
        "exp_rate_x = 0.1\n",
        "exp_rate_o = 0.1\n",
        "reward_win = 1\n",
        "reward_loss = 0\n",
        "reward_tie_x = 0.1\n",
        "reward_tie_o = 0.1\n",
        "\n",
        "p1_3 = AI_player(\"p1_3\", exp_rate = exp_rate_x)\n",
        "p2_3 = AI_player(\"p2_3\", exp_rate = exp_rate_o)\n",
        "\n",
        "x_learn_3 = state(p1_3, p2_3)\n",
        "print(\"Training X\")\n",
        "x_learn_3.play(100000)\n",
        "\n",
        "p1_3.save_policy()"
      ],
      "execution_count": null,
      "outputs": []
    },
    {
      "cell_type": "code",
      "metadata": {
        "colab": {
          "base_uri": "https://localhost:8080/",
          "height": 281
        },
        "id": "a5t-8EF7tfDi",
        "outputId": "bfd3792e-62f5-4265-f4fc-1453c6a32f0b"
      },
      "source": [
        "x_axis, cu_wins, cu_losses, cu_ties = separator(x_learn_3.wins, n = 100)\n",
        "\n",
        "plt.plot(x_axis, cu_wins, color = 'green')\n",
        "plt.plot(x_axis, cu_losses, color = 'red')\n",
        "plt.plot(x_axis, cu_ties, color = 'blue')\n",
        "plt.title(\"X's results, 3\")\n",
        "plt.show()\n"
      ],
      "execution_count": null,
      "outputs": [
        {
          "output_type": "display_data",
          "data": {
            "image/png": "[encoded data removed]",
            "text/plain": [
              "<Figure size 432x288 with 1 Axes>"
            ]
          },
          "metadata": {
            "needs_background": "light"
          }
        }
      ]
    },
    {
      "cell_type": "markdown",
      "metadata": {
        "id": "MpqRFAuZtldE"
      },
      "source": [
        "Training *X* VS Learning Opponent, Q-learning and parameters:"
      ]
    },
    {
      "cell_type": "code",
      "metadata": {
        "id": "JFYv1Q9ktpxx"
      },
      "source": [
        "exp_rate_x = 0.1\n",
        "exp_rate_o = 0.1\n",
        "reward_win = 1\n",
        "reward_loss = 0\n",
        "reward_tie_x = 0.1\n",
        "reward_tie_o = 0.1\n",
        "\n",
        "p1_4 = AI_player(\"p1_4\", exp_rate = exp_rate_x, sarsa = False)\n",
        "p2_4 = AI_player(\"p2_4\", exp_rate = exp_rate_o, sarsa = False)\n",
        "\n",
        "x_learn_4 = state(p1_4, p2_4)\n",
        "print(\"Training X\")\n",
        "x_learn_4.play(100000)\n",
        "\n",
        "p1_4.save_policy()"
      ],
      "execution_count": null,
      "outputs": []
    },
    {
      "cell_type": "code",
      "metadata": {
        "colab": {
          "base_uri": "https://localhost:8080/",
          "height": 281
        },
        "id": "ccDDMCfJ57dG",
        "outputId": "371b61c9-2724-4889-8d77-22532179f3f1"
      },
      "source": [
        "x_axis, cu_wins, cu_losses, cu_ties = separator(x_learn_5.wins, n = 1000)\n",
        "\n",
        "plt.plot(x_axis, cu_wins, color = 'green')\n",
        "plt.plot(x_axis, cu_losses, color = 'red')\n",
        "plt.plot(x_axis, cu_ties, color = 'blue')\n",
        "plt.title(\"X's results, 5\")\n",
        "plt.show()"
      ],
      "execution_count": null,
      "outputs": [
        {
          "output_type": "display_data",
          "data": {
            "image/png": "[encoded data removed]",
            "text/plain": [
              "<Figure size 432x288 with 1 Axes>"
            ]
          },
          "metadata": {
            "needs_background": "light"
          }
        }
      ]
    },
    {
      "cell_type": "markdown",
      "metadata": {
        "id": "vL7GI3z94gqw"
      },
      "source": [
        "Training *X* VS Learning Opponent, SARSA and parameters:"
      ]
    },
    {
      "cell_type": "code",
      "metadata": {
        "id": "5SqdV3eU4k14"
      },
      "source": [
        "exp_rate_x = 0.1\n",
        "exp_rate_o = 0.1\n",
        "reward_win = 1\n",
        "reward_loss = -1\n",
        "reward_tie_x = -1\n",
        "reward_tie_o = 1\n",
        "\n",
        "p1_5 = AI_player(\"p1_5\", exp_rate = exp_rate_x)\n",
        "p2_5 = AI_player(\"p2_5\", exp_rate = exp_rate_o)\n",
        "\n",
        "x_learn_5 = state(p1_5, p2_5, reward_win = reward_win, reward_loss = reward_loss, reward_tie_x = reward_tie_x, reward_tie_o = reward_tie_o)\n",
        "print(\"Training X\")\n",
        "x_learn_5.play(100000)\n",
        "\n",
        "p1_5.save_policy()"
      ],
      "execution_count": null,
      "outputs": []
    },
    {
      "cell_type": "code",
      "metadata": {
        "colab": {
          "base_uri": "https://localhost:8080/",
          "height": 281
        },
        "id": "4t8y4kkvuZK2",
        "outputId": "c0ac763f-208a-4186-fe7f-fc70bd8bea7b"
      },
      "source": [
        "x_axis, cu_wins, cu_losses, cu_ties = separator(x_learn_5.wins, n = 1000)\n",
        "\n",
        "plt.plot(x_axis, cu_wins, color = 'green')\n",
        "plt.plot(x_axis, cu_losses, color = 'red')\n",
        "plt.plot(x_axis, cu_ties, color = 'blue')\n",
        "plt.title(\"X's results, 5\")\n",
        "plt.show()"
      ],
      "execution_count": null,
      "outputs": [
        {
          "output_type": "display_data",
          "data": {
            "image/png": "[encoded data removed]",
            "text/plain": [
              "<Figure size 432x288 with 1 Axes>"
            ]
          },
          "metadata": {
            "needs_background": "light"
          }
        }
      ]
    },
    {
      "cell_type": "code",
      "metadata": {
        "id": "ArhqJ4lT4rrd"
      },
      "source": [
        "p1 = AI_player(\"computer\", exp_rate = 0)\n",
        "p1.load_policy(\"policy_p1_5\")\n",
        "\n",
        "p2 = human_player(\"human\")\n",
        "\n",
        "sta = state(p1, p2)\n",
        "sta.play_human()\n",
        "\n",
        "\n",
        "#files.download('policy_p1')\n",
        "#files.download('policy_p2')"
      ],
      "execution_count": null,
      "outputs": []
    },
    {
      "cell_type": "markdown",
      "metadata": {
        "id": "WSjNqB8KxNcP"
      },
      "source": [
        "Show Q-table values for initial move"
      ]
    },
    {
      "cell_type": "code",
      "metadata": {
        "id": "av1CXzp54rrd"
      },
      "source": [
        "pp = pprint.PrettyPrinter(indent=4)\n",
        "\n",
        "p1 = open('policy_p1', 'rb')\n",
        "policy1 = pickle.load(p1)\n",
        "\n",
        "q_table_x_1 = np.zeros((rows * cols))\n",
        "for i in range(9):\n",
        "    board = np.zeros((rows * cols))\n",
        "    board[i] = 1\n",
        "    q_table_x_1[i] = round(policy1.get(str(board)), 3)\n",
        "\n",
        "pp.pprint(q_table_x_1)\n",
        "\n",
        "p2 = open('policy_p2', 'rb')\n",
        "policy2 = pickle.load(p2)\n",
        "\n",
        "q_table_o_1 = np.zeros((rows * cols))\n",
        "\n",
        "for i in range(9):\n",
        "    if i != 4:\n",
        "        board = np.zeros((rows * cols))\n",
        "        board[i] = -1\n",
        "        board[4] = 1\n",
        "        q_table_o_1[i] = round(policy2.get(str(board)), 3)\n",
        "\n",
        "pp.pprint(q_table_o_1)"
      ],
      "execution_count": null,
      "outputs": []
    }
  ]
}